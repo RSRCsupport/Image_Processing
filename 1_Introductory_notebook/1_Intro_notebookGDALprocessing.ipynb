{
 "cells": [
  {
   "cell_type": "markdown",
   "metadata": {},
   "source": [
    "## An example to preprocess the WV2 satellite image used in practical 2 (part 1) with GDAL\n",
    "\n",
    "This Jupiter notebook contain code to 1) display metadata, 2) subset spatially (via .shp) and 3) spectrally (remove spectral bands) a 8 band Worldview-2 satellite image (Dunwich_20140701_WV2_raw.tif). I will include more code for band algebra (band ratios) and classification soon to replicate the image processing operations GEOM 2000/7000 students developed in Pract 2.  \n"
   ]
  },
  {
   "cell_type": "code",
   "execution_count": 6,
   "metadata": {},
   "outputs": [],
   "source": [
    "## import os and gdal\n",
    "\n",
    "from osgeo import gdal\n",
    "\n",
    "import os"
   ]
  },
  {
   "cell_type": "markdown",
   "metadata": {},
   "source": [
    "Using [os.getcwd()](https://docs.python.org/3/library/os.html#) to check the working directory I am currently in"
   ]
  },
  {
   "cell_type": "code",
   "execution_count": 11,
   "metadata": {},
   "outputs": [
    {
     "data": {
      "text/plain": [
       "'D:\\\\RSC_repo'"
      ]
     },
     "execution_count": 11,
     "metadata": {},
     "output_type": "execute_result"
    }
   ],
   "source": [
    "## first to check the working directory\n",
    "\n",
    "os.getcwd()\n"
   ]
  },
  {
   "cell_type": "markdown",
   "metadata": {},
   "source": [
    "In my case I am in D drive. In case I want to map where my image is I need to use [os.chdir()](https://docs.python.org/3/library/os.html#) in python as below:"
   ]
  },
  {
   "cell_type": "code",
   "execution_count": 20,
   "metadata": {},
   "outputs": [],
   "source": [
    "os.chdir('D:\\\\RSC_repo\\\\Data')"
   ]
  },
  {
   "cell_type": "markdown",
   "metadata": {},
   "source": [
    "Using the linux command \"ls\" to list waht I have in 'D:\\\\RSC_repo\\\\Data'"
   ]
  },
  {
   "cell_type": "code",
   "execution_count": 21,
   "metadata": {},
   "outputs": [
    {
     "name": "stdout",
     "output_type": "stream",
     "text": [
      " Volume in drive D is DATA\n",
      " Volume Serial Number is 6841-2554\n",
      "\n",
      " Directory of D:\\RSC_repo\\Data\n",
      "\n",
      "13/04/2019  07:39 PM    <DIR>          .\n",
      "13/04/2019  07:39 PM    <DIR>          ..\n",
      "13/04/2019  07:13 PM        79,134,225 Dunwich_20140701_WV2_raw.tif\n",
      "13/04/2019  07:39 PM                90 Dunwich_20140701_WV2_raw8.tfw\n",
      "13/04/2019  07:40 PM       426,806,570 Dunwich_20140701_WV2_raw8.tif\n",
      "13/04/2019  07:39 PM            79,081 Dunwich_20140701_WV2_raw8.tif.aux.xml\n",
      "13/04/2019  07:40 PM        74,110,855 Dunwich_20140701_WV2_raw8.tif.ovr\n",
      "               5 File(s)    580,130,821 bytes\n",
      "               2 Dir(s)  1,510,482,673,664 bytes free\n"
     ]
    }
   ],
   "source": [
    "ls"
   ]
  },
  {
   "cell_type": "heading",
   "metadata": {},
   "level": 1,
   "source": [
    "As you see the WV image is in this location (i.e. \"Dunwich_20140701_WV2_raw.tif\"). Lets assign the image to the variable \"filename\" "
   ]
  },
  {
   "cell_type": "code",
   "execution_count": 22,
   "metadata": {},
   "outputs": [],
   "source": [
    "filename='Dunwich_20140701_WV2_raw8.tif'"
   ]
  },
  {
   "cell_type": "markdown",
   "metadata": {},
   "source": [
    "Lets's check the metadata for the image as the first step to assess its quality so to be sure that your image has all the bands, geographic attributes like datum, projection, coordinates system, extent etc. For this we use the GDAL tool \"gdal info\". First let's import the python module [subprocess](https://docs.python.org/2/library/subprocess.html)"
   ]
  },
  {
   "cell_type": "code",
   "execution_count": 23,
   "metadata": {},
   "outputs": [
    {
     "name": "stdout",
     "output_type": "stream",
     "text": [
      "b'Driver: GTiff/GeoTIFF\\r\\nFiles: Dunwich_20140701_WV2_raw8.tif\\r\\n       Dunwich_20140701_WV2_raw8.tif.ovr\\r\\n       Dunwich_20140701_WV2_raw8.tif.aux.xml\\r\\nSize is 5577, 4723\\r\\nCoordinate System is:\\r\\nPROJCS[\"WGS_1984_UTM_Zone_56S\",\\r\\n    GEOGCS[\"WGS 84\",\\r\\n        DATUM[\"WGS_1984\",\\r\\n            SPHEROID[\"WGS 84\",6378137,298.257223563,\\r\\n                AUTHORITY[\"EPSG\",\"7030\"]],\\r\\n            AUTHORITY[\"EPSG\",\"6326\"]],\\r\\n        PRIMEM[\"Greenwich\",0],\\r\\n        UNIT[\"degree\",0.0174532925199433],\\r\\n        AUTHORITY[\"EPSG\",\"4326\"]],\\r\\n    PROJECTION[\"Transverse_Mercator\"],\\r\\n    PARAMETER[\"latitude_of_origin\",0],\\r\\n    PARAMETER[\"central_meridian\",153],\\r\\n    PARAMETER[\"scale_factor\",0.9996],\\r\\n    PARAMETER[\"false_easting\",500000],\\r\\n    PARAMETER[\"false_northing\",10000000],\\r\\n    UNIT[\"metre\",1,\\r\\n        AUTHORITY[\"EPSG\",\"9001\"]],\\r\\n    AUTHORITY[\"EPSG\",\"32756\"]]\\r\\nOrigin = (535376.000000000000000,6964072.000000000000000)\\r\\nPixel Size = (2.000000000000000,-2.000000000000000)\\r\\nCorner Coordinates:\\r\\nUpper Left  (  535376.000, 6964072.000) (153d21\\'28.73\"E, 27d26\\'46.95\"S)\\r\\nLower Left  (  535376.000, 6954626.000) (153d21\\'29.73\"E, 27d31\\'53.95\"S)\\r\\nUpper Right (  546530.000, 6964072.000) (153d28\\'15.06\"E, 27d26\\'45.75\"S)\\r\\nLower Right (  546530.000, 6954626.000) (153d28\\'16.36\"E, 27d31\\'52.74\"S)\\r\\nCenter      (  540953.000, 6959349.000) (153d24\\'52.47\"E, 27d29\\'19.89\"S)\\r\\nBand 1 Block=128x128 Type=UInt16, ColorInterp=Gray\\r\\n  Min=451.000 Max=2047.000 \\r\\n  Minimum=451.000, Maximum=2047.000, Mean=534.854, StdDev=49.155\\r\\n  NoData Value=65535\\r\\n  Overviews: 2789x2362, 1395x1181, 698x591, 349x296, 175x148\\r\\nBand 2 Block=128x128 Type=UInt16, ColorInterp=Undefined\\r\\n  Min=509.000 Max=2047.000 \\r\\n  Minimum=509.000, Maximum=2047.000, Mean=729.686, StdDev=108.036\\r\\n  NoData Value=65535\\r\\n  Overviews: 2789x2362, 1395x1181, 698x591, 349x296, 175x148\\r\\nBand 3 Block=128x128 Type=UInt16, ColorInterp=Undefined\\r\\n  Min=416.000 Max=2047.000 \\r\\n  Minimum=416.000, Maximum=2047.000, Mean=744.505, StdDev=171.090\\r\\n  NoData Value=65535\\r\\n  Overviews: 2789x2362, 1395x1181, 698x591, 349x296, 175x148\\r\\nBand 4 Block=128x128 Type=UInt16, ColorInterp=Undefined\\r\\n  Min=87.000 Max=2047.000 \\r\\n  Minimum=87.000, Maximum=2047.000, Mean=337.572, StdDev=149.178\\r\\n  NoData Value=65535\\r\\n  Overviews: 2789x2362, 1395x1181, 698x591, 349x296, 175x148\\r\\nBand 5 Block=128x128 Type=UInt16, ColorInterp=Undefined\\r\\n  Min=52.000 Max=2047.000 \\r\\n  Minimum=52.000, Maximum=2047.000, Mean=445.141, StdDev=232.291\\r\\n  NoData Value=65535\\r\\n  Overviews: 2789x2362, 1395x1181, 698x591, 349x296, 175x148\\r\\nBand 6 Block=128x128 Type=UInt16, ColorInterp=Undefined\\r\\n  Min=1.000 Max=2047.000 \\r\\n  Minimum=1.000, Maximum=2047.000, Mean=384.316, StdDev=300.657\\r\\n  NoData Value=65535\\r\\n  Overviews: 2789x2362, 1395x1181, 698x591, 349x296, 175x148\\r\\nBand 7 Block=128x128 Type=UInt16, ColorInterp=Undefined\\r\\n  Min=1.000 Max=2047.000 \\r\\n  Minimum=1.000, Maximum=2047.000, Mean=855.523, StdDev=751.071\\r\\n  NoData Value=65535\\r\\n  Overviews: 2789x2362, 1395x1181, 698x591, 349x296, 175x148\\r\\nBand 8 Block=128x128 Type=UInt16, ColorInterp=Undefined\\r\\n  Min=1.000 Max=2047.000 \\r\\n  Minimum=1.000, Maximum=2047.000, Mean=370.747, StdDev=356.877\\r\\n  NoData Value=65535\\r\\n  Overviews: 2789x2362, 1395x1181, 698x591, 349x296, 175x148\\r\\n'\n"
     ]
    }
   ],
   "source": [
    "import subprocess\n",
    "print (subprocess.check_output('gdalinfo '+'Dunwich_20140701_WV2_raw8.tif'+' -norat'+' -nomd',shell=True))"
   ]
  },
  {
   "cell_type": "markdown",
   "metadata": {},
   "source": [
    "Next we will use the tool [gdal_translate](http://www.gdal.org/gdal_translate.html) within a function in Python to subset the image to 4 bands (RGBN) and change the format (from.img to tif). This will create a new image named \"LandsatETM_20010822_4B.ti\"​"
   ]
  },
  {
   "cell_type": "code",
   "execution_count": 10,
   "metadata": {},
   "outputs": [],
   "source": [
    "def convertimg(infile):\n",
    "    cmd= \"gdal_translate -b 1 -b 2 -b 3 -b 4 %s LandsatETM_20010822_4B.tif\" %(infile)\n",
    "    os.system(cmd)"
   ]
  },
  {
   "cell_type": "code",
   "execution_count": 11,
   "metadata": {},
   "outputs": [],
   "source": [
    "convertimg(filename)"
   ]
  },
  {
   "cell_type": "markdown",
   "metadata": {},
   "source": [
    "Done the LandsatETM_20010822_4B.tif image was created, chack in your directory. Let's show it with the module mapplotlib in Python"
   ]
  },
  {
   "cell_type": "code",
   "execution_count": 14,
   "metadata": {},
   "outputs": [],
   "source": [
    "image=gdal.Open('LandsatETM_20010822_4B.tif')"
   ]
  },
  {
   "cell_type": "code",
   "execution_count": 15,
   "metadata": {},
   "outputs": [
    {
     "name": "stdout",
     "output_type": "stream",
     "text": [
      "(6981, 7821)\n"
     ]
    }
   ],
   "source": [
    "image_gdal =image.GetRasterBand(2).ReadAsArray()\n",
    "print (image_gdal.shape)    "
   ]
  },
  {
   "cell_type": "code",
   "execution_count": 16,
   "metadata": {},
   "outputs": [],
   "source": [
    "import matplotlib.pyplot as plt"
   ]
  },
  {
   "cell_type": "markdown",
   "metadata": {},
   "source": [
    "Next step to plot the image"
   ]
  },
  {
   "cell_type": "code",
   "execution_count": null,
   "metadata": {},
   "outputs": [
    {
     "data": {
      "image/png": "[encoded data removed]",
      "text/plain": [
       "<matplotlib.figure.Figure at 0xf8e4db0>"
      ]
     },
     "metadata": {},
     "output_type": "display_data"
    }
   ],
   "source": [
    "plt.imshow(image_gdal, cmap = \"hot\", interpolation='nearest', aspect='auto')\n",
    "plt.colorbar()\n",
    "plt.show()"
   ]
  },
  {
   "cell_type": "markdown",
   "metadata": {},
   "source": [
    "The next function will mask out areas of no interest and will crop the image to have only Heron Reef lagoon. In the next notebooks will go to more serious analyses in RS such as image algebra, clasification etc ..stay tunned!"
   ]
  },
  {
   "cell_type": "code",
   "execution_count": null,
   "metadata": {},
   "outputs": [],
   "source": []
  }
 ],
 "metadata": {
  "kernelspec": {
   "display_name": "Python 3",
   "language": "python",
   "name": "python3"
  },
  "language_info": {
   "codemirror_mode": {
    "name": "ipython",
    "version": 3
   },
   "file_extension": ".py",
   "mimetype": "text/x-python",
   "name": "python",
   "nbconvert_exporter": "python",
   "pygments_lexer": "ipython3",
   "version": "3.7.1"
  }
 },
 "nbformat": 4,
 "nbformat_minor": 2
}
