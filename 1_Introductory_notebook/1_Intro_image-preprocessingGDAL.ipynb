{
 "cells": [
  {
   "cell_type": "markdown",
   "metadata": {},
   "source": [
    "## An example to preprocess the Worldview-2 satellite image used in practical 2 (part 1) with the Geospatial Data Abstraction Library (GDAL)\n",
    "\n",
    "* This Jupyter notebook contain code to 1) display metadata, 2) subset spatially (via .shp) and 3) spectrally (remove spectral bands) a 8 band Worldview-2 satellite image (Dunwich_20140701_WV2_raw.tif). I will include more code for band algebra (band ratios) and classification soon to replicate the image processing operations GEOM 2000/7000 students developed in Pract 2.  \n"
   ]
  },
  {
   "cell_type": "markdown",
   "metadata": {},
   "source": [
    "### Initial setup"
   ]
  },
  {
   "cell_type": "code",
   "execution_count": null,
   "metadata": {},
   "outputs": [],
   "source": [
    "## importing python modules needed to run the notebook\n",
    "\n",
    "import pprint\n",
    "from matplotlib import pyplot as plt\n",
    "import numpy as np\n",
    "from osgeo import gdal\n",
    "import os"
   ]
  },
  {
   "cell_type": "markdown",
   "metadata": {},
   "source": [
    "* Using [os.getcwd()](https://docs.python.org/3/library/os.html#) to check the working directory I am currently in"
   ]
  },
  {
   "cell_type": "code",
   "execution_count": null,
   "metadata": {},
   "outputs": [],
   "source": [
    "## first to check the working directory\n",
    "\n",
    "os.getcwd()\n"
   ]
  },
  {
   "cell_type": "markdown",
   "metadata": {},
   "source": [
    "* In my case I am in C drive. In case I want to map where my image is I need to use os.chdir() in python as below:"
   ]
  },
  {
   "cell_type": "code",
   "execution_count": null,
   "metadata": {},
   "outputs": [],
   "source": [
    "os.chdir('C:\\\\Users\\\\uqrborre\\\\Desktop\\\\RSRC_repo\\\\Data')"
   ]
  },
  {
   "cell_type": "code",
   "execution_count": null,
   "metadata": {},
   "outputs": [],
   "source": []
  },
  {
   "cell_type": "markdown",
   "metadata": {},
   "source": [
    "* Using the linux command \"ls\" to list what it is in 'C:\\\\Users\\\\uqrborre\\\\Desktop\\\\RSRC_repo\\\\Data'"
   ]
  },
  {
   "cell_type": "code",
   "execution_count": null,
   "metadata": {},
   "outputs": [],
   "source": [
    "ls"
   ]
  },
  {
   "cell_type": "markdown",
   "metadata": {},
   "source": [
    "* As you see the Dunwich_20140701_WV2_raw.tif image is in this location. Let's assign the image to the variable \"filename\" for further processing"
   ]
  },
  {
   "cell_type": "code",
   "execution_count": null,
   "metadata": {},
   "outputs": [],
   "source": [
    "filename ='Dunwich_20140701_WV2_raw.tif'"
   ]
  },
  {
   "cell_type": "markdown",
   "metadata": {},
   "source": [
    "### Quality assurance/checking routines"
   ]
  },
  {
   "cell_type": "markdown",
   "metadata": {},
   "source": [
    "* You may want to assess the histogram per image band to check its shape (distribution) to be sure not many peaks are present (peaks may be a signal of data corruption)"
   ]
  },
  {
   "cell_type": "code",
   "execution_count": null,
   "metadata": {},
   "outputs": [],
   "source": [
    "## lets get the image openned with Gdal first\n",
    "image_gdal=gdal.Open(filename)"
   ]
  },
  {
   "cell_type": "code",
   "execution_count": null,
   "metadata": {},
   "outputs": [],
   "source": [
    "## get band 5 from the image\n",
    "image_gdal =image_gdal.GetRasterBand(5).ReadAsArray()"
   ]
  },
  {
   "cell_type": "code",
   "execution_count": null,
   "metadata": {},
   "outputs": [],
   "source": [
    "## histogram for band 5\n",
    "plt.hist(image_gdal.ravel(), density=True,  facecolor='b', alpha=0.75)\n",
    "plt.xlabel('Pixel values')\n",
    "plt.ylabel('Pixel number')\n",
    "plt.title('Histogram for spectral band 5 (WV2 image)')\n",
    "plt.grid(True)\n",
    "plt.show()"
   ]
  },
  {
   "cell_type": "markdown",
   "metadata": {},
   "source": [
    "* Lets's check the metadata for the image as the first step to assess its quality so to be sure that your image has all the bands, geographic attributes like datum, projection, coordinates system, extent etc. For this we use the GDAL tool \"gdal info\". First let's import the python module subprocess"
   ]
  },
  {
   "cell_type": "code",
   "execution_count": null,
   "metadata": {},
   "outputs": [],
   "source": [
    "import subprocess\n",
    "print (subprocess.check_output('gdalinfo '+'Dunwich_20140701_WV2_raw.tif'+' -norat'+' -nomd',shell=True))"
   ]
  },
  {
   "cell_type": "markdown",
   "metadata": {},
   "source": [
    "* Let's have a look at the image (loading the second spectral band) in the jupyter notebook to be sure it is intact using python's [matplotlyb library](https://matplotlib.org/) \n"
   ]
  },
  {
   "cell_type": "code",
   "execution_count": null,
   "metadata": {
    "scrolled": true
   },
   "outputs": [],
   "source": [
    "image_gdal =image.GetRasterBand(5).ReadAsArray()"
   ]
  },
  {
   "cell_type": "code",
   "execution_count": null,
   "metadata": {
    "scrolled": true
   },
   "outputs": [],
   "source": [
    "plt.imshow(image_gdal, cmap = \"gray\",  aspect='equal')\n",
    "\n",
    "plt.colorbar()\n",
    "plt.xlabel('Columns')\n",
    "plt.ylabel('Rows')\n",
    "plt.title('Band 5 (WV2 image)')\n",
    "plt.grid(True)\n",
    "\n",
    "plt.show()\n"
   ]
  },
  {
   "cell_type": "markdown",
   "metadata": {},
   "source": [
    "### Subsetting by shapefile"
   ]
  },
  {
   "cell_type": "markdown",
   "metadata": {},
   "source": [
    "* A shapefile was previosly created (i.e. shape.shp located where the image is) to crop the image to include only land areas. The next code will use [gdalwarp](https://www.gdal.org/gdalwarp.html) to subset the image spatially "
   ]
  },
  {
   "cell_type": "code",
   "execution_count": null,
   "metadata": {},
   "outputs": [],
   "source": [
    "def subset(shp, img):\n",
    "    outimg='Dunwich_20140701_WV2_raw8cut'+'.tif'\n",
    "    cmd=\"gdalwarp -of GTiff -cutline %s -crop_to_cutline -dstalpha %s  %s\" % (shp, img, outimg)\n",
    "    os.system(cmd)\n"
   ]
  },
  {
   "cell_type": "code",
   "execution_count": null,
   "metadata": {},
   "outputs": [],
   "source": [
    "shape='shape.shp'"
   ]
  },
  {
   "cell_type": "code",
   "execution_count": null,
   "metadata": {},
   "outputs": [],
   "source": [
    "subset(shape, filename)"
   ]
  },
  {
   "cell_type": "code",
   "execution_count": null,
   "metadata": {},
   "outputs": [],
   "source": [
    "imagecut=gdal.Open('Dunwich_20140701_WV2_raw8cut.tif')"
   ]
  },
  {
   "cell_type": "code",
   "execution_count": null,
   "metadata": {},
   "outputs": [],
   "source": [
    "image_gdalcut =imagecut.GetRasterBand(5).ReadAsArray()"
   ]
  },
  {
   "cell_type": "code",
   "execution_count": null,
   "metadata": {},
   "outputs": [],
   "source": [
    "#plt.imshow(image_gdalcut, vmin=0, vmax=255, cmap = \"gray\", aspect='auto')\n",
    "plt.imshow(image_gdalcut, vmin=0, vmax=1500, cmap = \"gray\", aspect='equal')\n",
    "\n",
    "\n",
    "#plt.colorbar()\n",
    "plt.xlabel('Columns')\n",
    "plt.ylabel('Rows')\n",
    "plt.title('Spatial subset band 5 (WV2 image)')\n",
    "plt.grid(True)\n",
    "\n",
    "plt.show()\n"
   ]
  },
  {
   "cell_type": "markdown",
   "metadata": {},
   "source": [
    "## Spectral subsetting (i.e. remove spectral bands that may not be useful for classification)"
   ]
  },
  {
   "cell_type": "markdown",
   "metadata": {},
   "source": [
    "* Next we will use the tool [gdal_translate](http://www.gdal.org/gdal_translate.html) to subset the image from 8 bands to 4 bands (RGBN). This will create a new image named \"Dunwich_20140701_WV2_RGBN.tif\"​"
   ]
  },
  {
   "cell_type": "code",
   "execution_count": null,
   "metadata": {},
   "outputs": [],
   "source": [
    "def convertimg(infile):\n",
    "    cmd= \"gdal_translate -b 2 -b 3 -b 5 -b 7 %s Dunwich_20140701_WV2_RGBN.tif\" %(infile)\n",
    "    os.system(cmd)"
   ]
  },
  {
   "cell_type": "code",
   "execution_count": null,
   "metadata": {},
   "outputs": [],
   "source": [
    "convertimg(filename)"
   ]
  },
  {
   "cell_type": "markdown",
   "metadata": {},
   "source": [
    "* Done! the Dunwich_20140701_WV2_RGBN.tif image was created. To be sure let's read the working dir again and check the metadata for the number of bands."
   ]
  },
  {
   "cell_type": "code",
   "execution_count": null,
   "metadata": {},
   "outputs": [],
   "source": [
    "ls"
   ]
  },
  {
   "cell_type": "markdown",
   "metadata": {},
   "source": [
    "* Checking metadata"
   ]
  },
  {
   "cell_type": "code",
   "execution_count": null,
   "metadata": {},
   "outputs": [],
   "source": [
    "import subprocess\n",
    "print (subprocess.check_output('gdalinfo '+'Dunwich_20140701_WV2_RGBN.tif'+' -norat'+' -nomd',shell=True))"
   ]
  },
  {
   "cell_type": "markdown",
   "metadata": {},
   "source": [
    "....The next function in this notebook will produce an NDVI image from the WV-2 image subset\n",
    "..stay tunned!"
   ]
  },
  {
   "cell_type": "code",
   "execution_count": null,
   "metadata": {},
   "outputs": [],
   "source": []
  },
  {
   "cell_type": "code",
   "execution_count": null,
   "metadata": {},
   "outputs": [],
   "source": []
  }
 ],
 "metadata": {
  "kernelspec": {
   "display_name": "Python 3",
   "language": "python",
   "name": "python3"
  },
  "language_info": {
   "codemirror_mode": {
    "name": "ipython",
    "version": 3
   },
   "file_extension": ".py",
   "mimetype": "text/x-python",
   "name": "python",
   "nbconvert_exporter": "python",
   "pygments_lexer": "ipython3",
   "version": "3.7.0"
  }
 },
 "nbformat": 4,
 "nbformat_minor": 2
}
